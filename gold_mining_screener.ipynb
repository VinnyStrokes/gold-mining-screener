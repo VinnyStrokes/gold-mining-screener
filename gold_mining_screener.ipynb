{
  "nbformat": 4,
  "nbformat_minor": 0,
  "metadata": {
    "colab": {
      "provenance": [],
      "authorship_tag": "ABX9TyPRkPPdlA374inAMx7xTLo7",
      "include_colab_link": true
    },
    "kernelspec": {
      "name": "python3",
      "display_name": "Python 3"
    },
    "language_info": {
      "name": "python"
    }
  },
  "cells": [
    {
      "cell_type": "markdown",
      "metadata": {
        "id": "view-in-github",
        "colab_type": "text"
      },
      "source": [
        "<a href=\"https://colab.research.google.com/github/VinnyStrokes/gold-mining-screener/blob/main/gold_mining_screener.ipynb\" target=\"_parent\"><img src=\"https://colab.research.google.com/assets/colab-badge.svg\" alt=\"Open In Colab\"/></a>"
      ]
    },
    {
      "cell_type": "code",
      "source": [
        "# Install required packages\n",
        "!pip install yfinance --quiet\n",
        "\n",
        "import pandas as pd\n",
        "import yfinance as yf\n",
        "import time\n",
        "\n",
        "# Seed list of gold/silver mining tickers from GDX, GDXJ, and other ETFs\n",
        "tickers = [\n",
        "    \"NEM\", \"AEM\", \"GOLD\", \"WPM\", \"FNV\", \"AGI\", \"PAAS\", \"KGC\", \"SSRM\", \"BTG\",\n",
        "    \"OR\", \"AU\", \"NGD\", \"EGO\", \"IAG\", \"HL\", \"MGG.TO\", \"LYD.TO\", \"SILV\", \"SBSW\"\n",
        "]\n",
        "\n",
        "# Function to fetch fundamentals\n",
        "def fetch_fundamentals(ticker):\n",
        "    try:\n",
        "        info = yf.Ticker(ticker).info\n",
        "        market_cap = info.get('marketCap')\n",
        "        pe = info.get('trailingPE')\n",
        "        industry = info.get('industry')\n",
        "        name = info.get('shortName') or info.get('longName')\n",
        "        return {\n",
        "            'Ticker': ticker,\n",
        "            'Name': name,\n",
        "            'MarketCap': market_cap,\n",
        "            'PE': pe,\n",
        "            'Industry': industry\n",
        "        }\n",
        "    except Exception as e:\n",
        "        print(f\"⚠️ Error fetching {ticker}: {e}\")\n",
        "        return None\n",
        "\n",
        "# Fetch and collect data\n",
        "fundamentals = []\n",
        "for i, t in enumerate(tickers):\n",
        "    if i % 10 == 0 and i > 0:\n",
        "        print(f\"⏳ Processed {i} tickers...\")\n",
        "        time.sleep(2)\n",
        "    data = fetch_fundamentals(t)\n",
        "    if data and data['MarketCap'] and data['PE'] and data['Industry']:\n",
        "        fundamentals.append(data)\n",
        "\n",
        "df_fund = pd.DataFrame(fundamentals)\n",
        "print(f\"\\n✅ Fetched fundamentals for {len(df_fund)} tickers\\n\")\n",
        "print(df_fund.head())\n",
        "\n",
        "# Screen for undervalued players in each industry\n",
        "results = []\n",
        "industry_groups = df_fund.groupby('Industry')\n",
        "\n",
        "for industry, group in industry_groups:\n",
        "    max_mcap = group['MarketCap'].max()\n",
        "    largest_pe = group.loc[group['MarketCap'].idxmax(), 'PE']\n",
        "    filtered = group[(group['MarketCap'] < max_mcap) & (group['PE'] < largest_pe)]\n",
        "    if not filtered.empty:\n",
        "        filtered = filtered.copy()\n",
        "        filtered['Largest_PE'] = largest_pe\n",
        "        filtered['PE_Spread'] = largest_pe - filtered['PE']\n",
        "        filtered['Largest_MCap'] = max_mcap\n",
        "        results.append(filtered)\n",
        "\n",
        "# Display results\n",
        "if results:\n",
        "    hidden_gems = pd.concat(results).sort_values(by='PE_Spread', ascending=False)\n",
        "    display_cols = ['Ticker', 'Name', 'Industry', 'MarketCap', 'PE', 'Largest_MCap', 'Largest_PE', 'PE_Spread']\n",
        "    print(f\"\\n🎯 Hidden gems based on P/E vs market cap leader:\\n\")\n",
        "    print(hidden_gems[display_cols].head(30))\n",
        "else:\n",
        "    print(\"😕 No hidden gems found with current criteria.\")\n"
      ],
      "metadata": {
        "colab": {
          "base_uri": "https://localhost:8080/"
        },
        "id": "P55goOwy-mX6",
        "outputId": "e3a502ef-af69-49bf-bf0d-ab95ee67942a"
      },
      "execution_count": null,
      "outputs": [
        {
          "output_type": "stream",
          "name": "stdout",
          "text": [
            "⏳ Processed 10 tickers...\n",
            "⚠️ Error fetching MGG.TO: HTTP Error 404: \n",
            "⚠️ Error fetching SILV: HTTP Error 404: \n",
            "\n",
            "✅ Fetched fundamentals for 15 tickers\n",
            "\n",
            "  Ticker                          Name    MarketCap         PE Industry\n",
            "0    NEM           Newmont Corporation  58822045696  12.038724     Gold\n",
            "1    AEM    Agnico Eagle Mines Limited  59345776640  25.078726     Gold\n",
            "2   GOLD      Barrick Gold Corporation  32429015040  14.287879     Gold\n",
            "3    WPM  Wheaton Precious Metals Corp  39107047424  62.897808     Gold\n",
            "4    FNV     Franco-Nevada Corporation  32590428160  52.329193     Gold\n",
            "\n",
            "🎯 Hidden gems based on P/E vs market cap leader:\n",
            "\n",
            "   Ticker                       Name Industry    MarketCap         PE  \\\n",
            "13    IAG        Iamgold Corporation     Gold   4077125632   4.684931   \n",
            "0     NEM        Newmont Corporation     Gold  58822045696  12.038724   \n",
            "12    EGO  Eldorado Gold Corporation     Gold   4127892224  12.102410   \n",
            "2    GOLD   Barrick Gold Corporation     Gold  32429015040  14.287879   \n",
            "10     AU      AngloGold Ashanti PLC     Gold  22200475648  14.345278   \n",
            "7     KGC   Kinross Gold Corporation     Gold  18144372736  15.091836   \n",
            "11    NGD              New Gold Inc.     Gold   3482023680  24.444445   \n",
            "\n",
            "    Largest_MCap  Largest_PE  PE_Spread  \n",
            "13   59345776640   25.078726  20.393795  \n",
            "0    59345776640   25.078726  13.040002  \n",
            "12   59345776640   25.078726  12.976316  \n",
            "2    59345776640   25.078726  10.790847  \n",
            "10   59345776640   25.078726  10.733448  \n",
            "7    59345776640   25.078726   9.986890  \n",
            "11   59345776640   25.078726   0.634281  \n"
          ]
        }
      ]
    },
    {
      "cell_type": "code",
      "source": [
        "!pip install yfinance\n"
      ],
      "metadata": {
        "colab": {
          "base_uri": "https://localhost:8080/"
        },
        "id": "O1AftYz6_aWC",
        "outputId": "90a8749e-7ecc-47a1-de3d-deff39bf637c"
      },
      "execution_count": null,
      "outputs": [
        {
          "output_type": "stream",
          "name": "stdout",
          "text": [
            "Requirement already satisfied: yfinance in /usr/local/lib/python3.11/dist-packages (0.2.61)\n",
            "Requirement already satisfied: pandas>=1.3.0 in /usr/local/lib/python3.11/dist-packages (from yfinance) (2.2.2)\n",
            "Requirement already satisfied: numpy>=1.16.5 in /usr/local/lib/python3.11/dist-packages (from yfinance) (2.0.2)\n",
            "Requirement already satisfied: requests>=2.31 in /usr/local/lib/python3.11/dist-packages (from yfinance) (2.32.3)\n",
            "Requirement already satisfied: multitasking>=0.0.7 in /usr/local/lib/python3.11/dist-packages (from yfinance) (0.0.11)\n",
            "Requirement already satisfied: platformdirs>=2.0.0 in /usr/local/lib/python3.11/dist-packages (from yfinance) (4.3.8)\n",
            "Requirement already satisfied: pytz>=2022.5 in /usr/local/lib/python3.11/dist-packages (from yfinance) (2025.2)\n",
            "Requirement already satisfied: frozendict>=2.3.4 in /usr/local/lib/python3.11/dist-packages (from yfinance) (2.4.6)\n",
            "Requirement already satisfied: peewee>=3.16.2 in /usr/local/lib/python3.11/dist-packages (from yfinance) (3.18.1)\n",
            "Requirement already satisfied: beautifulsoup4>=4.11.1 in /usr/local/lib/python3.11/dist-packages (from yfinance) (4.13.4)\n",
            "Requirement already satisfied: curl_cffi>=0.7 in /usr/local/lib/python3.11/dist-packages (from yfinance) (0.11.1)\n",
            "Requirement already satisfied: protobuf>=3.19.0 in /usr/local/lib/python3.11/dist-packages (from yfinance) (5.29.4)\n",
            "Requirement already satisfied: websockets>=13.0 in /usr/local/lib/python3.11/dist-packages (from yfinance) (15.0.1)\n",
            "Requirement already satisfied: soupsieve>1.2 in /usr/local/lib/python3.11/dist-packages (from beautifulsoup4>=4.11.1->yfinance) (2.7)\n",
            "Requirement already satisfied: typing-extensions>=4.0.0 in /usr/local/lib/python3.11/dist-packages (from beautifulsoup4>=4.11.1->yfinance) (4.13.2)\n",
            "Requirement already satisfied: cffi>=1.12.0 in /usr/local/lib/python3.11/dist-packages (from curl_cffi>=0.7->yfinance) (1.17.1)\n",
            "Requirement already satisfied: certifi>=2024.2.2 in /usr/local/lib/python3.11/dist-packages (from curl_cffi>=0.7->yfinance) (2025.4.26)\n",
            "Requirement already satisfied: python-dateutil>=2.8.2 in /usr/local/lib/python3.11/dist-packages (from pandas>=1.3.0->yfinance) (2.9.0.post0)\n",
            "Requirement already satisfied: tzdata>=2022.7 in /usr/local/lib/python3.11/dist-packages (from pandas>=1.3.0->yfinance) (2025.2)\n",
            "Requirement already satisfied: charset-normalizer<4,>=2 in /usr/local/lib/python3.11/dist-packages (from requests>=2.31->yfinance) (3.4.2)\n",
            "Requirement already satisfied: idna<4,>=2.5 in /usr/local/lib/python3.11/dist-packages (from requests>=2.31->yfinance) (3.10)\n",
            "Requirement already satisfied: urllib3<3,>=1.21.1 in /usr/local/lib/python3.11/dist-packages (from requests>=2.31->yfinance) (2.4.0)\n",
            "Requirement already satisfied: pycparser in /usr/local/lib/python3.11/dist-packages (from cffi>=1.12.0->curl_cffi>=0.7->yfinance) (2.22)\n",
            "Requirement already satisfied: six>=1.5 in /usr/local/lib/python3.11/dist-packages (from python-dateutil>=2.8.2->pandas>=1.3.0->yfinance) (1.17.0)\n"
          ]
        }
      ]
    },
    {
      "cell_type": "code",
      "source": [],
      "metadata": {
        "id": "72i8IZmdAaKe"
      },
      "execution_count": null,
      "outputs": []
    }
  ]
}